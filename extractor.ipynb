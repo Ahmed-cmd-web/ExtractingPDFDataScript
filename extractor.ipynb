{
 "cells": [
  {
   "cell_type": "code",
   "execution_count": 109,
   "metadata": {},
   "outputs": [
    {
     "data": {
      "text/html": [
       "<div>\n",
       "<style scoped>\n",
       "    .dataframe tbody tr th:only-of-type {\n",
       "        vertical-align: middle;\n",
       "    }\n",
       "\n",
       "    .dataframe tbody tr th {\n",
       "        vertical-align: top;\n",
       "    }\n",
       "\n",
       "    .dataframe thead th {\n",
       "        text-align: right;\n",
       "    }\n",
       "</style>\n",
       "<table border=\"1\" class=\"dataframe\">\n",
       "  <thead>\n",
       "    <tr style=\"text-align: right;\">\n",
       "      <th></th>\n",
       "      <th>Order No.</th>\n",
       "      <th>OrderTime</th>\n",
       "      <th>TradeNo.</th>\n",
       "      <th>TradeTime</th>\n",
       "      <th>Security/ContractDescriptionBuy</th>\n",
       "      <th>Buy(B) /Sell(S)</th>\n",
       "      <th>Quantity</th>\n",
       "      <th>Gross Rate/trade price per Unit(Rs)</th>\n",
       "      <th>Brokerage perUnit</th>\n",
       "      <th>NetRate perUnit(Rs)</th>\n",
       "      <th>ClosingRatePerUnit(Rs)</th>\n",
       "      <th>NetTotal(BeforeLevies)(Rs.)</th>\n",
       "      <th>remark</th>\n",
       "      <th>extra</th>\n",
       "      <th>extra2</th>\n",
       "    </tr>\n",
       "  </thead>\n",
       "  <tbody>\n",
       "  </tbody>\n",
       "</table>\n",
       "</div>"
      ],
      "text/plain": [
       "Empty DataFrame\n",
       "Columns: [Order No., OrderTime, TradeNo., TradeTime, Security/ContractDescriptionBuy, Buy(B) /Sell(S), Quantity, Gross Rate/trade price per Unit(Rs), Brokerage perUnit, NetRate perUnit(Rs), ClosingRatePerUnit(Rs), NetTotal(BeforeLevies)(Rs.), remark, extra, extra2]\n",
       "Index: []"
      ]
     },
     "execution_count": 109,
     "metadata": {},
     "output_type": "execute_result"
    }
   ],
   "source": [
    "from PyPDF2 import PdfReader\n",
    "import camelot,tabula,tabulate\n",
    "import pandas as pd\n",
    "\n",
    "pdf,pdf2='example.pdf','example2.pdf'\n",
    "\n",
    "columns=['Order No.','OrderTime','TradeNo.','TradeTime',\n",
    "'Security/ContractDescriptionBuy','Buy(B) /Sell(S)','Quantity','Gross Rate/trade price per Unit(Rs)','Brokerage perUnit','NetRate perUnit(Rs)',\n",
    "'ClosingRatePerUnit(Rs)','NetTotal(BeforeLevies)(Rs.)','remark','extra','extra2'\n",
    "]\n",
    "# reader=PdfReader('example.PDF')\n",
    "\n",
    "\n",
    "res=reader.getPage(0).extract_text()\n",
    "l=res.split('\\n')\n",
    "table1=l[41:len(l)-1]\n",
    "df=pd.DataFrame(columns=columns)\n",
    "\n",
    "for cell in table1:\n",
    "    if (len(cell)>90):\n",
    "        s=cell.split(' ')\n",
    "        df.loc[len(df.index)+1] = s\n",
    "df\n",
    "\n",
    "# #  camelot\n",
    "# tables=camelot.read_pdf('example.pdf')\n",
    "\n",
    "\n",
    "# tables[0].to_excel(\"foo.xlsx\")\n",
    "\n",
    "\n",
    "#  tabula\n",
    "\n",
    "# doc=tabula.io.read_pdf(pdf2,pages='all',stream=True)\n",
    "\n",
    "\n",
    "\n"
   ]
  }
 ],
 "metadata": {
  "kernelspec": {
   "display_name": "Python 3.7.6 64-bit",
   "language": "python",
   "name": "python3"
  },
  "language_info": {
   "codemirror_mode": {
    "name": "ipython",
    "version": 3
   },
   "file_extension": ".py",
   "mimetype": "text/x-python",
   "name": "python",
   "nbconvert_exporter": "python",
   "pygments_lexer": "ipython3",
   "version": "3.7.6"
  },
  "orig_nbformat": 4,
  "vscode": {
   "interpreter": {
    "hash": "e534e48711db4d1e1c48977d0d14ff85b1f16d41bcc4fdfd88268a329b3c9d66"
   }
  }
 },
 "nbformat": 4,
 "nbformat_minor": 2
}
