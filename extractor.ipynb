{
 "cells": [
  {
   "cell_type": "code",
   "execution_count": null,
   "metadata": {},
   "outputs": [],
   "source": [
    "from datetime import datetime\n",
    "import re\n",
    "\n",
    "symbolRegex=\"[:][0-9]+\"\n",
    "ISINRegex=\"[:]\\s[A-Z0-9]+\\s[a-zA-Z]+\"\n",
    "\n",
    "\n",
    "def findSymbol(target):\n",
    "    symbolRegex=\"[:][0-9]+\"\n",
    "    return re.findall(symbolRegex,target)\n",
    "\n",
    "def findISIN(target):\n",
    "    ISINRegex=\"[:]\\s[A-Z0-9]+\\s[a-zA-Z]+\"\n",
    "    return re.findall(ISINRegex,target)\n",
    "\n",
    "def findBuySell(arr):\n",
    "    regex=\"[0-9]*\\s[@]\\s[0-9]+[.][0-9]*\\s[=]\\s[0-9]*[.][0-9]*\\s[a-zA-Z]*[:]\\s[0-9]*[.][0-9]*\"\n",
    "    return [i for i in arr if re.findall(regex,i)]\n",
    "\n",
    "def isData(arr):\n",
    "    if (len(arr)<4):\n",
    "        return False\n",
    "    res=False\n",
    "    try:\n",
    "        datetime.strptime(arr[1],\"%H:%M:%S\")\n",
    "        res=True\n",
    "    except ValueError:\n",
    "        return False\n",
    "    return arr[0].isdigit() and len(arr[0])>=8 and arr[1] and res\n"
   ]
  },
  {
   "cell_type": "code",
   "execution_count": null,
   "metadata": {},
   "outputs": [],
   "source": [
    "import pdfplumber\n",
    "import pandas as pd\n",
    "\n",
    "pdf,pdf2='example.pdf','example2.pdf'\n",
    "\n",
    "columns=['Order No.','OrderTime','TradeNo.','TradeTime',\n",
    "'Security/ContractDescription','Buy(B) /Sell(S)','Quantity','Gross Rate/trade price per Unit(Rs)','Brokerage perUnit','NetRate perUnit(Rs)'\n",
    ",'NetTotal(BeforeLevies)(Rs.)','Symbol','ISIN','Total Buy','Total Sell'\n",
    "]\n",
    "\n",
    "def removeNone(array):\n",
    "   return [v for v in array if v is not None and v is not '']\n",
    "\n",
    "def createOrganizedDf(page):\n",
    "    row=[]\n",
    "    temp=[]\n",
    "    for elem in page:\n",
    "        ISIN=findISIN(elem[0])\n",
    "        Symbol=findSymbol(elem[0])\n",
    "        buySell=findBuySell(elem)\n",
    "        if len(Symbol)==1:\n",
    "            temp+=Symbol\n",
    "        if len(ISIN)==1:\n",
    "            temp+=ISIN\n",
    "        elif len(buySell)>0:\n",
    "            if (temp[5]==\"B\"):   \n",
    "                temp+=[buySell[0],None]\n",
    "            else:\n",
    "                temp+=[None,buySell[0]]\n",
    "        elif isData(elem):\n",
    "            temp=elem+temp\n",
    "        if len(temp)==15:\n",
    "            row.append(temp)\n",
    "            temp=[]\n",
    "    df=pd.DataFrame(row,columns=columns)\n",
    "    return df\n",
    "\n",
    "\n",
    "\n",
    "pdf=pdfplumber.open(pdf)\n",
    "pages=[]\n",
    "for i in pdf.pages:\n",
    "    pages+=i.extract_table(table_settings={'keep_blank_chars':False})\n",
    "\n",
    "# remove the headers and useless data\n",
    "del pages[0][0:2]\n",
    "\n",
    "# remove all useless values like none,null,or \" \"\n",
    "for i in range(len(pages)):\n",
    "    pages[i]=removeNone(pages[i])\n",
    "df=createOrganizedDf(pages)\n",
    "df\n",
    "\n"
   ]
  }
 ],
 "metadata": {
  "kernelspec": {
   "display_name": "Python 3.7.6 64-bit",
   "language": "python",
   "name": "python3"
  },
  "language_info": {
   "codemirror_mode": {
    "name": "ipython",
    "version": 3
   },
   "file_extension": ".py",
   "mimetype": "text/x-python",
   "name": "python",
   "nbconvert_exporter": "python",
   "pygments_lexer": "ipython3",
   "version": "3.7.6"
  },
  "orig_nbformat": 4,
  "vscode": {
   "interpreter": {
    "hash": "e534e48711db4d1e1c48977d0d14ff85b1f16d41bcc4fdfd88268a329b3c9d66"
   }
  }
 },
 "nbformat": 4,
 "nbformat_minor": 2
}
